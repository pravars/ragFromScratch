{
  "nbformat": 4,
  "nbformat_minor": 0,
  "metadata": {
    "colab": {
      "provenance": [],
      "authorship_tag": "ABX9TyOBp7IWC8d22WRWqvIml0l6",
      "include_colab_link": true
    },
    "kernelspec": {
      "name": "python3",
      "display_name": "Python 3"
    },
    "language_info": {
      "name": "python"
    }
  },
  "cells": [
    {
      "cell_type": "markdown",
      "metadata": {
        "id": "view-in-github",
        "colab_type": "text"
      },
      "source": [
        "<a href=\"https://colab.research.google.com/github/pravars/ragFromScratch/blob/main/First_Chain.ipynb\" target=\"_parent\"><img src=\"https://colab.research.google.com/assets/colab-badge.svg\" alt=\"Open In Colab\"/></a>"
      ]
    },
    {
      "cell_type": "code",
      "execution_count": null,
      "metadata": {
        "id": "-d0df7ZejENX"
      },
      "outputs": [],
      "source": [
        "pip install langchain"
      ]
    },
    {
      "cell_type": "code",
      "source": [],
      "metadata": {
        "id": "RnqzQr3qj9HJ"
      },
      "execution_count": null,
      "outputs": []
    },
    {
      "cell_type": "code",
      "source": [
        "pip install langchain-openai\n"
      ],
      "metadata": {
        "id": "ZVicHiTTjmz-"
      },
      "execution_count": null,
      "outputs": []
    },
    {
      "cell_type": "code",
      "source": [
        "import os\n",
        "os.environ['LANGCHAIN_TRACING_V2'] = 'true'\n",
        "os.environ['LANGCHAIN_ENDPOINT'] = 'https://api.smith.langchain.com'\n",
        "os.environ['LANGCHAIN_API_KEY'] = ''\n",
        "os.environ['OPENAI_API_KEY'] = ''"
      ],
      "metadata": {
        "id": "0z84DY0Yj961"
      },
      "execution_count": 4,
      "outputs": []
    },
    {
      "cell_type": "code",
      "source": [
        "from langchain_openai import ChatOpenAI\n",
        "\n",
        "llm = ChatOpenAI()"
      ],
      "metadata": {
        "id": "phI9hDXrkmeI"
      },
      "execution_count": 5,
      "outputs": []
    },
    {
      "cell_type": "code",
      "source": [
        "llm.invoke(\"how can langsmith help with testing?\")"
      ],
      "metadata": {
        "colab": {
          "base_uri": "https://localhost:8080/"
        },
        "id": "qs6aqZ4XkxNK",
        "outputId": "06a54857-9961-47f7-8884-225a7db3af32"
      },
      "execution_count": 6,
      "outputs": [
        {
          "output_type": "execute_result",
          "data": {
            "text/plain": [
              "AIMessage(content='Langsmith can help with testing in the following ways:\\n\\n1. Automated testing: Langsmith can be used to write automated tests for software applications, ensuring that they function as expected and do not have any bugs or issues.\\n\\n2. Test case generation: Langsmith can help generate test cases for different scenarios, ensuring thorough testing coverage and identifying potential edge cases that may not have been considered otherwise.\\n\\n3. Test data generation: Langsmith can be used to generate test data for various inputs, allowing testers to simulate different scenarios and test the robustness of the software.\\n\\n4. Test script creation: Langsmith can help create test scripts for different testing scenarios, making it easier for testers to execute tests and report any issues found.\\n\\n5. Performance testing: Langsmith can be used to conduct performance testing of software applications, helping identify any bottlenecks or performance issues that may impact the overall user experience.\\n\\nOverall, Langsmith can be a valuable tool in the testing process, helping testers ensure the quality and reliability of software applications.')"
            ]
          },
          "metadata": {},
          "execution_count": 6
        }
      ]
    },
    {
      "cell_type": "code",
      "source": [
        "from langchain_core.prompts import ChatPromptTemplate\n",
        "prompt = ChatPromptTemplate.from_messages([\n",
        "    (\"system\", \"You are world class technical documentation writer.\"),\n",
        "    (\"user\", \"{input}\")\n",
        "])"
      ],
      "metadata": {
        "id": "MCuAgGGSlGSK"
      },
      "execution_count": 7,
      "outputs": []
    },
    {
      "cell_type": "code",
      "source": [
        "chain = prompt | llm\n",
        "chain.invoke({\"input\": \"how can langsmith help with testing?\"})"
      ],
      "metadata": {
        "colab": {
          "base_uri": "https://localhost:8080/"
        },
        "id": "OSXKPXtZlOo_",
        "outputId": "d737e51c-098b-409a-e57d-76c11db309df"
      },
      "execution_count": 9,
      "outputs": [
        {
          "output_type": "execute_result",
          "data": {
            "text/plain": [
              "AIMessage(content='Langsmith can help with testing in several ways:\\n\\n1. Automated testing: Langsmith can generate test cases automatically, helping to increase test coverage and identify edge cases that may not be obvious to human testers.\\n\\n2. Test data generation: Langsmith can generate realistic test data to ensure that the application is tested with a variety of inputs and scenarios.\\n\\n3. Performance testing: Langsmith can simulate large numbers of users or data to test the performance of the application under different conditions.\\n\\n4. Regression testing: Langsmith can automatically re-run tests to ensure that new code changes have not introduced any regressions.\\n\\n5. Integration testing: Langsmith can help with testing the integration of different components or systems by generating test scenarios and data.\\n\\nOverall, Langsmith can help streamline the testing process, improve test coverage, and identify potential issues early in the development cycle.')"
            ]
          },
          "metadata": {},
          "execution_count": 9
        }
      ]
    },
    {
      "cell_type": "code",
      "source": [
        "from langchain_core.output_parsers import StrOutputParser\n",
        "\n",
        "output_parser = StrOutputParser()"
      ],
      "metadata": {
        "id": "Ze6PNGSkloc8"
      },
      "execution_count": 10,
      "outputs": []
    },
    {
      "cell_type": "code",
      "source": [
        "chain = prompt | llm | output_parser\n",
        "chain.invoke({\"input\": \"how can langsmith help with testing?\"})"
      ],
      "metadata": {
        "colab": {
          "base_uri": "https://localhost:8080/",
          "height": 120
        },
        "id": "CZCUNMnKlqgc",
        "outputId": "28cf839e-94eb-4a03-8e7c-563519e779b4"
      },
      "execution_count": 12,
      "outputs": [
        {
          "output_type": "execute_result",
          "data": {
            "text/plain": [
              "'Langsmith can help with testing in several ways:\\n\\n1. Automated Testing: Langsmith can generate test scripts automatically based on the language models it has been trained on. This can help in creating a comprehensive set of test cases to validate the functionality of a software application.\\n\\n2. Language-specific Testing: Langsmith can be used to perform language-specific testing, such as code analysis, syntax checking, and semantic analysis. This can help in identifying language-specific issues in the software under test.\\n\\n3. Test Data Generation: Langsmith can generate realistic test data based on the language models it has been trained on. This can help in creating diverse and representative test data sets for testing various scenarios.\\n\\n4. Test Case Prioritization: Langsmith can analyze the language patterns in the test cases and prioritize them based on the likelihood of finding defects. This can help in optimizing the testing process and focusing on high-risk areas.\\n\\n5. Test Coverage Analysis: Langsmith can analyze the test scripts and provide insights into the code coverage achieved by the tests. This can help in identifying gaps in the test coverage and improving the overall test effectiveness.\\n\\nOverall, Langsmith can enhance the testing process by leveraging its language processing capabilities to automate, optimize, and streamline various aspects of software testing.'"
            ],
            "application/vnd.google.colaboratory.intrinsic+json": {
              "type": "string"
            }
          },
          "metadata": {},
          "execution_count": 12
        }
      ]
    },
    {
      "cell_type": "code",
      "source": [
        "pip install beautifulsoup4"
      ],
      "metadata": {
        "colab": {
          "base_uri": "https://localhost:8080/"
        },
        "id": "u09A1Z7QmQs9",
        "outputId": "cdb0bfff-4ade-409c-86d4-09ef05682387"
      },
      "execution_count": 13,
      "outputs": [
        {
          "output_type": "stream",
          "name": "stdout",
          "text": [
            "Requirement already satisfied: beautifulsoup4 in /usr/local/lib/python3.10/dist-packages (4.12.3)\n",
            "Requirement already satisfied: soupsieve>1.2 in /usr/local/lib/python3.10/dist-packages (from beautifulsoup4) (2.5)\n"
          ]
        }
      ]
    },
    {
      "cell_type": "code",
      "source": [
        "from langchain_community.document_loaders import WebBaseLoader\n",
        "loader = WebBaseLoader(\"https://en.wikipedia.org/wiki/Tesla,_Inc.\")\n",
        "\n",
        "docs = loader.load()"
      ],
      "metadata": {
        "id": "-NWAKz9ImZw5"
      },
      "execution_count": 25,
      "outputs": []
    },
    {
      "cell_type": "code",
      "source": [
        "from langchain_openai import OpenAIEmbeddings\n",
        "\n",
        "embeddings = OpenAIEmbeddings()"
      ],
      "metadata": {
        "id": "YppJ46qhmjN1"
      },
      "execution_count": 26,
      "outputs": []
    },
    {
      "cell_type": "code",
      "source": [
        "pip install faiss-cpu"
      ],
      "metadata": {
        "colab": {
          "base_uri": "https://localhost:8080/"
        },
        "id": "WST1FQElmqto",
        "outputId": "0558d91c-fe69-49c6-b78e-219907485a84"
      },
      "execution_count": 27,
      "outputs": [
        {
          "output_type": "stream",
          "name": "stdout",
          "text": [
            "Requirement already satisfied: faiss-cpu in /usr/local/lib/python3.10/dist-packages (1.7.4)\n"
          ]
        }
      ]
    },
    {
      "cell_type": "code",
      "source": [
        "from langchain_community.vectorstores import FAISS\n",
        "from langchain.text_splitter import RecursiveCharacterTextSplitter\n",
        "\n",
        "\n",
        "text_splitter = RecursiveCharacterTextSplitter()\n",
        "documents = text_splitter.split_documents(docs)\n",
        "vector = FAISS.from_documents(documents, embeddings)"
      ],
      "metadata": {
        "id": "PPidzA1rm0NE"
      },
      "execution_count": 28,
      "outputs": []
    },
    {
      "cell_type": "code",
      "source": [
        "from langchain.chains.combine_documents import create_stuff_documents_chain\n",
        "\n",
        "prompt = ChatPromptTemplate.from_template(\"\"\"Answer the following question based only on the provided context:\n",
        "\n",
        "<context>\n",
        "{context}\n",
        "</context>\n",
        "\n",
        "Question: {input}\"\"\")\n",
        "\n",
        "document_chain = create_stuff_documents_chain(llm, prompt)"
      ],
      "metadata": {
        "id": "Ta7K7OKlnA4y"
      },
      "execution_count": 30,
      "outputs": []
    },
    {
      "cell_type": "code",
      "source": [
        "from langchain_core.documents import Document\n",
        "\n",
        "document_chain.invoke({\n",
        "    \"input\": \"who founded tesla?\",\n",
        "    \"context\": [Document(page_content=\"langsmith can let you visualize test results\")]\n",
        "})"
      ],
      "metadata": {
        "colab": {
          "base_uri": "https://localhost:8080/",
          "height": 35
        },
        "id": "fWRejcaqnQKN",
        "outputId": "a625d5f4-e7ee-4cac-9f66-d83d7fae5db4"
      },
      "execution_count": 31,
      "outputs": [
        {
          "output_type": "execute_result",
          "data": {
            "text/plain": [
              "'The context provided does not mention anything about Tesla or its founder.'"
            ],
            "application/vnd.google.colaboratory.intrinsic+json": {
              "type": "string"
            }
          },
          "metadata": {},
          "execution_count": 31
        }
      ]
    },
    {
      "cell_type": "code",
      "source": [
        "from langchain.chains import create_retrieval_chain\n",
        "\n",
        "retriever = vector.as_retriever()\n",
        "retrieval_chain = create_retrieval_chain(retriever, document_chain)"
      ],
      "metadata": {
        "id": "4NVy47yknVwJ"
      },
      "execution_count": 32,
      "outputs": []
    },
    {
      "cell_type": "code",
      "source": [
        "response = retrieval_chain.invoke({\"input\": \"How many model tesla has ?\"})\n",
        "print(response[\"answer\"])\n",
        "\n",
        "# LangSmith offers several features that can help with testing:..."
      ],
      "metadata": {
        "colab": {
          "base_uri": "https://localhost:8080/"
        },
        "id": "IqUJ4S9cnc-H",
        "outputId": "0fba2d45-d161-4e50-edb1-e54bdcf62572"
      },
      "execution_count": 35,
      "outputs": [
        {
          "output_type": "stream",
          "name": "stdout",
          "text": [
            "Tesla has several models, including the Model S, Model X, Model 3, Model Y, Cybertruck, Roadster (2005–2009), and Tesla Semi.\n"
          ]
        }
      ]
    }
  ]
}